{
 "cells": [
  {
   "cell_type": "code",
   "execution_count": 1,
   "metadata": {
    "collapsed": true
   },
   "outputs": [],
   "source": [
    "import pandas as pd\n",
    "import numpy as np\n",
    "import matplotlib.pyplot as plt\n",
    "import seaborn as sns"
   ]
  },
  {
   "cell_type": "code",
   "execution_count": 18,
   "outputs": [
    {
     "name": "stdout",
     "output_type": "stream",
     "text": [
      "<pandas.core.groupby.generic.DataFrameGroupBy object at 0x0000025CE7B3C1F0>\n"
     ]
    }
   ],
   "source": [
    "data = pd.read_excel(\"../data/饮酒1 (1).xlsx\",header=0)\n",
    "grouped = data.groupby('工作日饮酒量')\n",
    "# 打印分组信息\n",
    "print(grouped)"
   ],
   "metadata": {
    "collapsed": false,
    "pycharm": {
     "name": "#%%\n"
    }
   }
  },
  {
   "cell_type": "code",
   "execution_count": 19,
   "outputs": [],
   "source": [
    "# 对每个分组应用聚合函数，比如求每组的平均年龄\n",
    "average_age = grouped['缺勤率'].mean()"
   ],
   "metadata": {
    "collapsed": false,
    "pycharm": {
     "name": "#%%\n"
    }
   }
  },
  {
   "cell_type": "code",
   "execution_count": 20,
   "outputs": [
    {
     "data": {
      "text/plain": "工作日饮酒量\n1    3.972490\n2    4.979592\n3    5.782609\n4    6.500000\n5    7.615385\nName: 缺勤率, dtype: float64"
     },
     "execution_count": 20,
     "metadata": {},
     "output_type": "execute_result"
    }
   ],
   "source": [
    "grouped['缺勤率'].mean()"
   ],
   "metadata": {
    "collapsed": false,
    "pycharm": {
     "name": "#%%\n"
    }
   }
  },
  {
   "cell_type": "code",
   "execution_count": 30,
   "outputs": [
    {
     "name": "stdout",
     "output_type": "stream",
     "text": [
      "对应的HSV颜色: H=17, S=112, V=48\n"
     ]
    }
   ],
   "source": [
    "import cv2\n",
    "import numpy as np\n",
    "\n",
    "# 定义RGB颜色\n",
    "rgb_color = np.uint8([[[48, 39, 27]]])\n",
    "\n",
    "# 使用OpenCV将RGB转换为BGR格式\n",
    "bgr_color = cv2.cvtColor(rgb_color, cv2.COLOR_RGB2BGR)\n",
    "\n",
    "# 使用OpenCV将BGR颜色转换为HSV\n",
    "hsv_color = cv2.cvtColor(bgr_color, cv2.COLOR_BGR2HSV)\n",
    "\n",
    "# OpenCV返回的是二维数组，取其第一个元素作为结果\n",
    "h, s, v = hsv_color[0][0]\n",
    "\n",
    "print(f\"对应的HSV颜色: H={h}, S={s}, V={v}\")"
   ],
   "metadata": {
    "collapsed": false,
    "pycharm": {
     "name": "#%%\n"
    }
   }
  },
  {
   "cell_type": "code",
   "execution_count": null,
   "outputs": [],
   "source": [
    "30 17 103"
   ],
   "metadata": {
    "collapsed": false,
    "pycharm": {
     "name": "#%%\n"
    }
   }
  }
 ],
 "metadata": {
  "kernelspec": {
   "display_name": "Python 3",
   "language": "python",
   "name": "python3"
  },
  "language_info": {
   "codemirror_mode": {
    "name": "ipython",
    "version": 2
   },
   "file_extension": ".py",
   "mimetype": "text/x-python",
   "name": "python",
   "nbconvert_exporter": "python",
   "pygments_lexer": "ipython2",
   "version": "2.7.6"
  }
 },
 "nbformat": 4,
 "nbformat_minor": 0
}